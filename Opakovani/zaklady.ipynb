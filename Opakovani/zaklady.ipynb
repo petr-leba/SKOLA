{
 "cells": [
  {
   "attachments": {},
   "cell_type": "markdown",
   "metadata": {},
   "source": [
    "# Základy Pythonu\n",
    "## Výstup v Pythonu\n",
    "Pro základní výstup v příkazové řídce používá Python metodu print().\n",
    "**Příklad použití:**\n",
    "print(\"Ahoj jak je?\")\n",
    "**Úkol**\n",
    "Pomocí funkce print vytiskněte tuto řádku textu:\n",
    "Počasí se mění rychleji než moje nálada."
   ]
  },
  {
   "cell_type": "code",
   "execution_count": 1,
   "metadata": {},
   "outputs": [
    {
     "name": "stdout",
     "output_type": "stream",
     "text": [
      "Počasí se mění rychleji než moje nálada.\n"
     ]
    }
   ],
   "source": [
    "print(\"Počasí se mění rychleji než moje nálada.\")"
   ]
  }
 ],
 "metadata": {
  "kernelspec": {
   "display_name": "base",
   "language": "python",
   "name": "python3"
  },
  "language_info": {
   "codemirror_mode": {
    "name": "ipython",
    "version": 3
   },
   "file_extension": ".py",
   "mimetype": "text/x-python",
   "name": "python",
   "nbconvert_exporter": "python",
   "pygments_lexer": "ipython3",
   "version": "3.10.9"
  },
  "orig_nbformat": 4
 },
 "nbformat": 4,
 "nbformat_minor": 2
}
